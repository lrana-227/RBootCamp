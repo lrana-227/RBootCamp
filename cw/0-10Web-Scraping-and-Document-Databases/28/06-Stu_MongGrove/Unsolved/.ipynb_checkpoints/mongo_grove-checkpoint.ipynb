{
 "cells": [
  {
   "cell_type": "code",
   "execution_count": 1,
   "metadata": {},
   "outputs": [],
   "source": [
    "import pymongo"
   ]
  },
  {
   "cell_type": "code",
   "execution_count": 2,
   "metadata": {},
   "outputs": [],
   "source": [
    "db_conn=\"mongodb://localhost:27017\"\n",
    "client = pymongo.MongoClient(db_conn)"
   ]
  },
  {
   "cell_type": "code",
   "execution_count": 6,
   "metadata": {},
   "outputs": [],
   "source": [
    "db_name = client.fruits_db\n",
    "\n",
    "cl_name = db_name.fruits"
   ]
  },
  {
   "cell_type": "code",
   "execution_count": 7,
   "metadata": {},
   "outputs": [],
   "source": [
    "row_one  = {\n",
    "    \"vendor\":\"vendor1\",\n",
    "    \"fruit\":\"fruit1\",\n",
    "    \"quantity\":10,\n",
    "    \"ripeness\":1 \n",
    "}"
   ]
  },
  {
   "cell_type": "code",
   "execution_count": 8,
   "metadata": {},
   "outputs": [
    {
     "data": {
      "text/plain": [
       "<pymongo.results.InsertOneResult at 0x17cec3e3980>"
      ]
     },
     "execution_count": 8,
     "metadata": {},
     "output_type": "execute_result"
    }
   ],
   "source": [
    "cl_name.insert_one(row_one)"
   ]
  },
  {
   "cell_type": "code",
   "execution_count": 10,
   "metadata": {},
   "outputs": [
    {
     "name": "stdout",
     "output_type": "stream",
     "text": [
      "{'_id': ObjectId('60763f2a9ca1b0c7551d133f'), 'vendor': 'vendor1', 'fruit': 'fruit1', 'quantity': 10, 'ripeness': 1}\n"
     ]
    }
   ],
   "source": [
    "all_rows = cl_name.find()\n",
    "\n",
    "for row in all_rows:\n",
    "    print(row)\n",
    "    "
   ]
  },
  {
   "cell_type": "code",
   "execution_count": 11,
   "metadata": {},
   "outputs": [
    {
     "name": "stdout",
     "output_type": "stream",
     "text": [
      "Enter Vendor Namevendor 2\n",
      "Enter Fruit Typefruit 2\n",
      "Enter number20\n",
      "Enter ripeness 1-32\n"
     ]
    }
   ],
   "source": [
    "vendor_name = input(\"Enter Vendor Name\")\n",
    "fruit_type = input(\"Enter Fruit Type\")\n",
    "quantity = input(\"Enter number\")\n",
    "ripeness = input(\"Enter ripeness 1-3\")\n"
   ]
  },
  {
   "cell_type": "code",
   "execution_count": 12,
   "metadata": {},
   "outputs": [
    {
     "data": {
      "text/plain": [
       "<pymongo.results.InsertOneResult at 0x17ceea31a80>"
      ]
     },
     "execution_count": 12,
     "metadata": {},
     "output_type": "execute_result"
    }
   ],
   "source": [
    "#get input from user\n",
    "row_two  = {\n",
    "    \"vendor\":vendor_name,\n",
    "    \"fruit\":fruit_type,\n",
    "    \"quantity\":quantity,\n",
    "    \"ripeness\":ripeness \n",
    "}\n",
    "cl_name.insert_one(row_two)"
   ]
  },
  {
   "cell_type": "code",
   "execution_count": 13,
   "metadata": {},
   "outputs": [
    {
     "name": "stdout",
     "output_type": "stream",
     "text": [
      "{'_id': ObjectId('60763f2a9ca1b0c7551d133f'), 'vendor': 'vendor1', 'fruit': 'fruit1', 'quantity': 10, 'ripeness': 1}\n",
      "{'_id': ObjectId('607640909ca1b0c7551d1340'), 'vendor': 'vendor 2', 'fruit': 'fruit 2', 'quantity': '20', 'ripeness': '2'}\n"
     ]
    }
   ],
   "source": [
    "all_rows = cl_name.find()\n",
    "\n",
    "for row in all_rows:\n",
    "    print(row)"
   ]
  },
  {
   "cell_type": "code",
   "execution_count": null,
   "metadata": {},
   "outputs": [],
   "source": []
  }
 ],
 "metadata": {
  "kernelspec": {
   "display_name": "Python 3",
   "language": "python",
   "name": "python3"
  },
  "language_info": {
   "codemirror_mode": {
    "name": "ipython",
    "version": 3
   },
   "file_extension": ".py",
   "mimetype": "text/x-python",
   "name": "python",
   "nbconvert_exporter": "python",
   "pygments_lexer": "ipython3",
   "version": "3.8.5"
  }
 },
 "nbformat": 4,
 "nbformat_minor": 2
}
