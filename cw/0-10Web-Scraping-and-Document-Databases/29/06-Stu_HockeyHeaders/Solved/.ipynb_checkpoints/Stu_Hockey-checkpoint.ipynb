{
 "cells": [
  {
   "cell_type": "code",
   "execution_count": 1,
   "metadata": {},
   "outputs": [],
   "source": [
    "# Dependencies\n",
    "from bs4 import BeautifulSoup\n",
    "import requests\n",
    "import pymongo"
   ]
  },
  {
   "cell_type": "code",
   "execution_count": 2,
   "metadata": {},
   "outputs": [],
   "source": [
    "# Initialize PyMongo to work with MongoDBs\n",
    "conn = 'mongodb://localhost:27017'\n",
    "client = pymongo.MongoClient(conn)"
   ]
  },
  {
   "cell_type": "code",
   "execution_count": 3,
   "metadata": {},
   "outputs": [],
   "source": [
    "# Define database and collection\n",
    "db = client.nhl_db\n",
    "collection = db.articles"
   ]
  },
  {
   "cell_type": "code",
   "execution_count": 4,
   "metadata": {},
   "outputs": [],
   "source": [
    "# URL of page to be scraped\n",
    "url = 'https://www.nhl.com/news'\n",
    "\n",
    "# Retrieve page with the requests module\n",
    "response = requests.get(url)\n",
    "# Create BeautifulSoup object; parse with 'html.parser'\n",
    "soup = BeautifulSoup(response.text, 'html.parser')"
   ]
  },
  {
   "cell_type": "code",
   "execution_count": 5,
   "metadata": {},
   "outputs": [
    {
     "name": "stdout",
     "output_type": "stream",
     "text": [
      "-----------------\n",
      "Canucks' return delayed, will not face Oilers on Friday\n",
      "Vancouver has not played since March 24 due to COVID-19 outbreak\n",
      "2021-04-15\n",
      "-----------------\n",
      "Matthews out for Maple Leafs against Jets with undisclosed injury\n",
      "Center day to day, leads NHL in goals\n",
      "2021-04-15\n",
      "-----------------\n",
      "Super 16: Avalanche remain No. 1, Blues return to NHL.com power rankings\n",
      "Golden Knights, Capitals move up; Lightning, Panthers tumble\n",
      "2021-04-15\n",
      "-----------------\n",
      "Marleau approaching NHL games played record with Sharks with grace\n",
      "Center's perseverance doing 'something you love' has him three from passing Howe at 1,767\n",
      "2021-04-15\n",
      "-----------------\n",
      "Grubauer out at least two weeks for Avalanche in NHL COVID-19 protocol\n",
      "Dubnyk, acquired from Sharks, debuts, defeats Blues\n",
      "2021-04-14\n",
      "-----------------\n",
      "NHL Buzz: Rask starts in return for Bruins against Islanders\n",
      "Stamkos to miss next two games for Lightning; Seguin skates with Stars, could be back in two weeks\n",
      "2021-04-15\n",
      "-----------------\n",
      "Eichel out for season for Sabres with neck injury\n",
      "Center expected to be ready for next season, scored two goals in 21 games\n",
      "2021-04-15\n",
      "-----------------\n",
      "Bishop, Radulov out for season for Stars\n",
      "Goalie had offseason knee surgery, forward to have core muscle procedure; each expected back for start of 2021-22\n",
      "2021-04-14\n",
      "-----------------\n",
      "AHL notebook: Caufield, Boldy among NCAA additions making big impact\n",
      "Canadiens, Wild prospects impress in pro debuts\n",
      "2021-04-15\n",
      "-----------------\n",
      "Fantasy hockey top 200 player rankings\n",
      "NHL.com has best standard league options for rest of season after Trade Deadline\n",
      "2021-04-15\n",
      "-----------------\n",
      "Mailbag: Stanley Cup favorites after Trade Deadline, Red Wings future\n",
      "NHL.com's Amalie Benjamin answers weekly questions\n",
      "2021-04-14\n",
      "-----------------\n",
      "Kraken looking for coach, Seattle expansion team plans to be patient\n",
      "Francis says they will 'wait and see who is all out there'\n",
      "2021-04-13\n",
      "-----------------\n",
      "Sheary signs two-year, $3 million contract with Capitals\n",
      "Forward could have been unrestricted free agent after this season\n",
      "2021-04-15\n",
      "-----------------\n",
      "Luke Hughes out for US at Under-18 Worlds due to injury\n",
      "A-rated defenseman still among top prospects in 2021 NHL Draft, U.S. coach tells 'NHL Draft Class' podcast\n",
      "2021-04-14\n",
      "-----------------\n",
      "Fantasy hockey top 25 goalie rankings\n",
      "Best options at position in standard leagues for rest of this season; podcast\n",
      "2021-04-15\n",
      "-----------------\n",
      "2020-21 NHL Trade Tracker\n",
      "Official deals since Oct. 1, 2020\n",
      "2021-04-12\n",
      "-----------------\n",
      "2020 NHL Draft first-round pick signings tracker\n",
      "Status of 31 players chosen in opening round\n",
      "2021-04-15\n",
      "-----------------\n",
      "2021 NHL Expansion Draft had GMs cautious before Trade Deadline\n",
      "Wary of moves leading to players being unprotected for Kraken to select\n",
      "2021-04-13\n",
      "-----------------\n",
      "Trade Deadline impact on playoff races examined on 'NHL @TheRink' podcast\n",
      "Mantha to Capitals, Hall to Bruins, Coyotes standing pat among featured topics\n",
      "2021-04-13\n",
      "-----------------\n",
      "NHL DFS player picks, projections, strategy\n",
      "Volkov: five points in first seven games with Ducks; more Friday fantasy targets\n",
      "2021-04-15\n",
      "-----------------\n",
      "Forsberg, Ekholm extensions priority for Predators, GM says\n",
      "Poile also wants to discuss contract with pending free agent Granlund\n",
      "2021-04-13\n",
      "-----------------\n",
      "2021 NHL Trade Deadline fantasy recap\n",
      "Hall can return to elite form with Krejci; Mantha, Vrana gain value from move\n",
      "2021-04-15\n",
      "-----------------\n",
      "Worsley was last NHL goalie to play without mask\n",
      "Hall of Famer who won Cup four times wore face protection final six games of 21-season career\n",
      "2021-04-14\n"
     ]
    },
    {
     "ename": "AttributeError",
     "evalue": "'NoneType' object has no attribute 'text'",
     "output_type": "error",
     "traceback": [
      "\u001b[1;31m---------------------------------------------------------------------------\u001b[0m",
      "\u001b[1;31mAttributeError\u001b[0m                            Traceback (most recent call last)",
      "\u001b[1;32m<ipython-input-5-d9939b7d5c47>\u001b[0m in \u001b[0;36m<module>\u001b[1;34m\u001b[0m\n\u001b[0;32m      8\u001b[0m \u001b[1;33m\u001b[0m\u001b[0m\n\u001b[0;32m      9\u001b[0m     \u001b[1;31m# scrape the article subheader\u001b[0m\u001b[1;33m\u001b[0m\u001b[1;33m\u001b[0m\u001b[1;33m\u001b[0m\u001b[0m\n\u001b[1;32m---> 10\u001b[1;33m     \u001b[0msubheader\u001b[0m \u001b[1;33m=\u001b[0m \u001b[0mresult\u001b[0m\u001b[1;33m.\u001b[0m\u001b[0mfind\u001b[0m\u001b[1;33m(\u001b[0m\u001b[1;34m'h2'\u001b[0m\u001b[1;33m,\u001b[0m \u001b[0mclass_\u001b[0m\u001b[1;33m=\u001b[0m\u001b[1;34m'article-item__subheader'\u001b[0m\u001b[1;33m)\u001b[0m\u001b[1;33m.\u001b[0m\u001b[0mtext\u001b[0m\u001b[1;33m\u001b[0m\u001b[1;33m\u001b[0m\u001b[0m\n\u001b[0m\u001b[0;32m     11\u001b[0m \u001b[1;33m\u001b[0m\u001b[0m\n\u001b[0;32m     12\u001b[0m     \u001b[1;31m# scrape the datetime\u001b[0m\u001b[1;33m\u001b[0m\u001b[1;33m\u001b[0m\u001b[1;33m\u001b[0m\u001b[0m\n",
      "\u001b[1;31mAttributeError\u001b[0m: 'NoneType' object has no attribute 'text'"
     ]
    }
   ],
   "source": [
    "# Retrieve the parent divs for all articles\n",
    "results = soup.find_all('div', class_='article-item__top')\n",
    "\n",
    "# loop over results to get article data\n",
    "for result in results:\n",
    "    # scrape the article header \n",
    "    header = result.find('h1', class_='article-item__headline').text\n",
    "    \n",
    "    # scrape the article subheader\n",
    "    subheader = result.find('h2', class_='article-item__subheader').text\n",
    "    \n",
    "    # scrape the datetime\n",
    "    datetime = result.find('span', class_='article-item__date')['data-date'] \n",
    "    \n",
    "    # get only the date from the datetime\n",
    "    date = datetime.split('T')[0]\n",
    "    \n",
    "    # print article data\n",
    "    print('-----------------')\n",
    "    print(header)\n",
    "    print(subheader)\n",
    "    print(date)\n",
    "\n",
    "    # Dictionary to be inserted into MongoDB\n",
    "    post = {\n",
    "        'header': header,\n",
    "        'subheader': subheader,\n",
    "        'date': date,\n",
    "    }\n",
    "\n",
    "    # Insert dictionary into MongoDB as a document\n",
    "    collection.insert_one(post)"
   ]
  },
  {
   "cell_type": "code",
   "execution_count": 6,
   "metadata": {},
   "outputs": [
    {
     "name": "stdout",
     "output_type": "stream",
     "text": [
      "{'_id': ObjectId('6078dc7b3ce33741b3591c74'), 'header': \"Canucks' return delayed, will not face Oilers on Friday\", 'subheader': 'Vancouver has not played since March 24 due to COVID-19 outbreak', 'date': '2021-04-15'}\n",
      "{'_id': ObjectId('6078dc7b3ce33741b3591c75'), 'header': 'Matthews out for Maple Leafs against Jets with undisclosed injury', 'subheader': 'Center day to day, leads NHL in goals', 'date': '2021-04-15'}\n",
      "{'_id': ObjectId('6078dc7b3ce33741b3591c76'), 'header': 'Super 16: Avalanche remain No. 1, Blues return to NHL.com power rankings', 'subheader': 'Golden Knights, Capitals move up; Lightning, Panthers tumble', 'date': '2021-04-15'}\n",
      "{'_id': ObjectId('6078dc7b3ce33741b3591c77'), 'header': 'Marleau approaching NHL games played record with Sharks with grace', 'subheader': \"Center's perseverance doing 'something you love' has him three from passing Howe at 1,767\", 'date': '2021-04-15'}\n",
      "{'_id': ObjectId('6078dc7b3ce33741b3591c78'), 'header': 'Grubauer out at least two weeks for Avalanche in NHL COVID-19 protocol', 'subheader': 'Dubnyk, acquired from Sharks, debuts, defeats Blues', 'date': '2021-04-14'}\n",
      "{'_id': ObjectId('6078dc7b3ce33741b3591c79'), 'header': 'NHL Buzz: Rask starts in return for Bruins against Islanders', 'subheader': 'Stamkos to miss next two games for Lightning; Seguin skates with Stars, could be back in two weeks', 'date': '2021-04-15'}\n",
      "{'_id': ObjectId('6078dc7b3ce33741b3591c7a'), 'header': 'Eichel out for season for Sabres with neck injury', 'subheader': 'Center expected to be ready for next season, scored two goals in 21 games', 'date': '2021-04-15'}\n",
      "{'_id': ObjectId('6078dc7b3ce33741b3591c7b'), 'header': 'Bishop, Radulov out for season for Stars', 'subheader': 'Goalie had offseason knee surgery, forward to have core muscle procedure; each expected back for start of 2021-22', 'date': '2021-04-14'}\n",
      "{'_id': ObjectId('6078dc7b3ce33741b3591c7c'), 'header': 'AHL notebook: Caufield, Boldy among NCAA additions making big impact', 'subheader': 'Canadiens, Wild prospects impress in pro debuts', 'date': '2021-04-15'}\n",
      "{'_id': ObjectId('6078dc7b3ce33741b3591c7d'), 'header': 'Fantasy hockey top 200 player rankings', 'subheader': 'NHL.com has best standard league options for rest of season after Trade Deadline', 'date': '2021-04-15'}\n",
      "{'_id': ObjectId('6078dc7b3ce33741b3591c7e'), 'header': 'Mailbag: Stanley Cup favorites after Trade Deadline, Red Wings future', 'subheader': \"NHL.com's Amalie Benjamin answers weekly questions\", 'date': '2021-04-14'}\n",
      "{'_id': ObjectId('6078dc7b3ce33741b3591c7f'), 'header': 'Kraken looking for coach, Seattle expansion team plans to be patient', 'subheader': \"Francis says they will 'wait and see who is all out there'\", 'date': '2021-04-13'}\n",
      "{'_id': ObjectId('6078dc7b3ce33741b3591c80'), 'header': 'Sheary signs two-year, $3 million contract with Capitals', 'subheader': 'Forward could have been unrestricted free agent after this season', 'date': '2021-04-15'}\n",
      "{'_id': ObjectId('6078dc7b3ce33741b3591c81'), 'header': 'Luke Hughes out for US at Under-18 Worlds due to injury', 'subheader': \"A-rated defenseman still among top prospects in 2021 NHL Draft, U.S. coach tells 'NHL Draft Class' podcast\", 'date': '2021-04-14'}\n",
      "{'_id': ObjectId('6078dc7b3ce33741b3591c82'), 'header': 'Fantasy hockey top 25 goalie rankings', 'subheader': 'Best options at position in standard leagues for rest of this season; podcast', 'date': '2021-04-15'}\n",
      "{'_id': ObjectId('6078dc7b3ce33741b3591c83'), 'header': '2020-21 NHL Trade Tracker', 'subheader': 'Official deals since Oct. 1, 2020', 'date': '2021-04-12'}\n",
      "{'_id': ObjectId('6078dc7b3ce33741b3591c84'), 'header': '2020 NHL Draft first-round pick signings tracker', 'subheader': 'Status of 31 players chosen in opening round', 'date': '2021-04-15'}\n",
      "{'_id': ObjectId('6078dc7b3ce33741b3591c85'), 'header': '2021 NHL Expansion Draft had GMs cautious before Trade Deadline', 'subheader': 'Wary of moves leading to players being unprotected for Kraken to select', 'date': '2021-04-13'}\n",
      "{'_id': ObjectId('6078dc7b3ce33741b3591c86'), 'header': \"Trade Deadline impact on playoff races examined on 'NHL @TheRink' podcast\", 'subheader': 'Mantha to Capitals, Hall to Bruins, Coyotes standing pat among featured topics', 'date': '2021-04-13'}\n",
      "{'_id': ObjectId('6078dc7b3ce33741b3591c87'), 'header': 'NHL DFS player picks, projections, strategy', 'subheader': 'Volkov: five points in first seven games with Ducks; more Friday fantasy targets', 'date': '2021-04-15'}\n",
      "{'_id': ObjectId('6078dc7b3ce33741b3591c88'), 'header': 'Forsberg, Ekholm extensions priority for Predators, GM says', 'subheader': 'Poile also wants to discuss contract with pending free agent Granlund', 'date': '2021-04-13'}\n",
      "{'_id': ObjectId('6078dc7b3ce33741b3591c89'), 'header': '2021 NHL Trade Deadline fantasy recap', 'subheader': 'Hall can return to elite form with Krejci; Mantha, Vrana gain value from move', 'date': '2021-04-15'}\n",
      "{'_id': ObjectId('6078dc7b3ce33741b3591c8a'), 'header': 'Worsley was last NHL goalie to play without mask', 'subheader': 'Hall of Famer who won Cup four times wore face protection final six games of 21-season career', 'date': '2021-04-14'}\n"
     ]
    }
   ],
   "source": [
    "# Display the MongoDB records created above\n",
    "articles = db.articles.find()\n",
    "for article in articles:\n",
    "    print(article)"
   ]
  },
  {
   "cell_type": "code",
   "execution_count": null,
   "metadata": {},
   "outputs": [],
   "source": []
  }
 ],
 "metadata": {
  "kernelspec": {
   "display_name": "Python 3",
   "language": "python",
   "name": "python3"
  },
  "language_info": {
   "codemirror_mode": {
    "name": "ipython",
    "version": 3
   },
   "file_extension": ".py",
   "mimetype": "text/x-python",
   "name": "python",
   "nbconvert_exporter": "python",
   "pygments_lexer": "ipython3",
   "version": "3.8.5"
  },
  "varInspector": {
   "cols": {
    "lenName": 16,
    "lenType": 16,
    "lenVar": 40
   },
   "kernels_config": {
    "python": {
     "delete_cmd_postfix": "",
     "delete_cmd_prefix": "del ",
     "library": "var_list.py",
     "varRefreshCmd": "print(var_dic_list())"
    },
    "r": {
     "delete_cmd_postfix": ") ",
     "delete_cmd_prefix": "rm(",
     "library": "var_list.r",
     "varRefreshCmd": "cat(var_dic_list()) "
    }
   },
   "types_to_exclude": [
    "module",
    "function",
    "builtin_function_or_method",
    "instance",
    "_Feature"
   ],
   "window_display": false
  }
 },
 "nbformat": 4,
 "nbformat_minor": 2
}
