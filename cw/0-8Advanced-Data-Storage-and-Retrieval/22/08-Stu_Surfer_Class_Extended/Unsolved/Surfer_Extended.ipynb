{
 "cells": [
  {
   "cell_type": "code",
   "execution_count": 21,
   "metadata": {},
   "outputs": [],
   "source": [
    "# Define the Surfer Class\n",
    "class Surfer():\n",
    "\n",
    "    # Keep track of surfer count as they are created\n",
    "    surferCount = 0\n",
    "\n",
    "    # Constructor\n",
    "    # --------------------------------------------------------------------------------\n",
    "    # Initialize the surfer and assign each surfer a new surfer count upon creation\n",
    "    def __init__(self, name, hometown, rank, wipeouts=0):\n",
    "        self.name = name \n",
    "        self.hometown = hometown\n",
    "        self.rank = rank \n",
    "        Surfer.surferCount += 1\n",
    "        self.wipeouts = wipeouts\n",
    "        \n",
    "\n",
    "    \n",
    "    # Class Methods\n",
    "    # --------------------------------------------------------------------------------\n",
    "    # Prints what number surfer they are based on when they were created\n",
    "\n",
    "    def number_surfer(self):\n",
    "        print(Surfer.surferCount)\n",
    "    # Prints out simple string\n",
    "    def speak(self):\n",
    "        print(\"High Tides Big Waves\")\n",
    "\n",
    "    # Interpolates based on their attributes\n",
    "    def bio(self):\n",
    "        print(f\"Hi My name is {self.name}. I am from {self.hometown}. I am ranked {self.rank}.\")\n",
    "    # Check how many wipeouts and print out a statement\n",
    "    def cheer(self):\n",
    "        if self.wipeouts == 0:\n",
    "            print(\"I am not doing so well\")\n",
    "        else:\n",
    "            print(f\"Yay I have {self.wipeouts} wipeouts!!\")"
   ]
  },
  {
   "cell_type": "code",
   "execution_count": 22,
   "metadata": {},
   "outputs": [
    {
     "name": "stdout",
     "output_type": "stream",
     "text": [
      "Lipi\n",
      "mtolive\n",
      "4\n",
      "3\n",
      "1\n",
      "High Tides Big Waves\n",
      "Hi My name is Lipi. I am from mtolive. I am ranked 4.\n",
      "Yay I have 3 wipeouts!!\n"
     ]
    }
   ],
   "source": [
    "# Create Surfers\n",
    "# --------------------------------------------------------------------------------\n",
    "surfer1 = Surfer(\"Lipi\",\"mtolive\", \"4\",3)\n",
    "print (surfer1.name)\n",
    "print (surfer1.hometown)\n",
    "print (surfer1.rank)\n",
    "print (surfer1.wipeouts)\n",
    "surfer1.number_surfer()\n",
    "surfer1.speak()\n",
    "surfer1.bio()\n",
    "surfer1.cheer()\n",
    "\n"
   ]
  },
  {
   "cell_type": "code",
   "execution_count": 23,
   "metadata": {},
   "outputs": [
    {
     "name": "stdout",
     "output_type": "stream",
     "text": [
      "Lisu\n",
      "myc\n",
      "1\n",
      "0\n",
      "2\n",
      "High Tides Big Waves\n",
      "Hi My name is Lisu. I am from myc. I am ranked 1.\n",
      "I am not doing so well\n"
     ]
    }
   ],
   "source": [
    "surfer2 = Surfer(\"Lisu\",\"myc\", \"1\",0)\n",
    "print (surfer2.name)\n",
    "print (surfer2.hometown)\n",
    "print (surfer2.rank)\n",
    "print (surfer2.wipeouts)\n",
    "surfer2.number_surfer()\n",
    "surfer2.speak()\n",
    "surfer2.bio()\n",
    "surfer2.cheer()"
   ]
  },
  {
   "cell_type": "code",
   "execution_count": null,
   "metadata": {},
   "outputs": [],
   "source": []
  }
 ],
 "metadata": {
  "kernelspec": {
   "display_name": "Python 3",
   "language": "python",
   "name": "python3"
  },
  "language_info": {
   "codemirror_mode": {
    "name": "ipython",
    "version": 3
   },
   "file_extension": ".py",
   "mimetype": "text/x-python",
   "name": "python",
   "nbconvert_exporter": "python",
   "pygments_lexer": "ipython3",
   "version": "3.8.5"
  },
  "varInspector": {
   "cols": {
    "lenName": 16,
    "lenType": 16,
    "lenVar": 40
   },
   "kernels_config": {
    "python": {
     "delete_cmd_postfix": "",
     "delete_cmd_prefix": "del ",
     "library": "var_list.py",
     "varRefreshCmd": "print(var_dic_list())"
    },
    "r": {
     "delete_cmd_postfix": ") ",
     "delete_cmd_prefix": "rm(",
     "library": "var_list.r",
     "varRefreshCmd": "cat(var_dic_list()) "
    }
   },
   "types_to_exclude": [
    "module",
    "function",
    "builtin_function_or_method",
    "instance",
    "_Feature"
   ],
   "window_display": false
  }
 },
 "nbformat": 4,
 "nbformat_minor": 2
}
