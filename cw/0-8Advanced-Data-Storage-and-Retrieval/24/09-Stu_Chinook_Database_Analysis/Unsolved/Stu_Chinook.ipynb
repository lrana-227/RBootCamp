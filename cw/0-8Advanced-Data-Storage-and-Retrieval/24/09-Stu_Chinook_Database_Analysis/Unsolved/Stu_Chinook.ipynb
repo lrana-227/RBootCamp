{
 "cells": [
  {
   "cell_type": "code",
   "execution_count": null,
   "metadata": {
    "nbgrader": {
     "grade": false,
     "grade_id": "cell-ce43e917c058e1e6",
     "locked": true,
     "schema_version": 1,
     "solution": false
    }
   },
   "outputs": [],
   "source": [
    "# Ignore SQLITE warnings related to Decimal numbers in the Chinook database\n",
    "import warnings\n",
    "warnings.filterwarnings('ignore')"
   ]
  },
  {
   "cell_type": "code",
   "execution_count": 2,
   "metadata": {
    "nbgrader": {
     "grade": false,
     "grade_id": "cell-5a901ed15fb6e525",
     "locked": false,
     "schema_version": 1,
     "solution": true
    }
   },
   "outputs": [],
   "source": [
    "# Import Dependencies\n",
    "import sqlalchemy\n",
    "from sqlalchemy.ext.automap import automap_base\n",
    "from sqlalchemy.orm import Session\n",
    "from sqlalchemy import create_engine\n",
    "from sqlalchemy import func\n"
   ]
  },
  {
   "cell_type": "code",
   "execution_count": 3,
   "metadata": {
    "nbgrader": {
     "grade": false,
     "grade_id": "cell-3061988562b57cdd",
     "locked": false,
     "schema_version": 1,
     "solution": true
    }
   },
   "outputs": [],
   "source": [
    "# Create an engine for the chinook.sqlite database\n",
    "engine = create_engine(\"sqlite:///../Resources/chinook.sqlite\", echo=False)"
   ]
  },
  {
   "cell_type": "code",
   "execution_count": 4,
   "metadata": {
    "nbgrader": {
     "grade": false,
     "grade_id": "cell-96fcd4f8590fa08d",
     "locked": false,
     "schema_version": 1,
     "solution": true
    }
   },
   "outputs": [
    {
     "data": {
      "text/plain": [
       "['albums',\n",
       " 'artists',\n",
       " 'customers',\n",
       " 'employees',\n",
       " 'genres',\n",
       " 'invoice_items',\n",
       " 'invoices',\n",
       " 'tracks',\n",
       " 'media_types',\n",
       " 'playlists']"
      ]
     },
     "execution_count": 4,
     "metadata": {},
     "output_type": "execute_result"
    }
   ],
   "source": [
    "# Reflect Database into ORM classes\n",
    "Base = automap_base()\n",
    "Base.prepare(engine, reflect=True)\n",
    "Base.classes.keys()"
   ]
  },
  {
   "cell_type": "code",
   "execution_count": 5,
   "metadata": {
    "nbgrader": {
     "grade": false,
     "grade_id": "cell-b94d91b48824b4bd",
     "locked": false,
     "schema_version": 1,
     "solution": true
    }
   },
   "outputs": [],
   "source": [
    "# Save a reference to the invoices table as `Invoices`\n",
    "Invoices = Base.classes.invoices"
   ]
  },
  {
   "cell_type": "code",
   "execution_count": 6,
   "metadata": {
    "nbgrader": {
     "grade": false,
     "grade_id": "cell-691d1378e207458c",
     "locked": false,
     "schema_version": 1,
     "solution": true
    }
   },
   "outputs": [],
   "source": [
    "# Create a database session object\n",
    "session = Session(engine)"
   ]
  },
  {
   "cell_type": "code",
   "execution_count": 9,
   "metadata": {
    "nbgrader": {
     "grade": false,
     "grade_id": "cell-88cce17ddb8934fb",
     "locked": false,
     "schema_version": 1,
     "solution": true
    }
   },
   "outputs": [
    {
     "data": {
      "text/plain": [
       "[('Germany'),\n",
       " ('Norway'),\n",
       " ('Belgium'),\n",
       " ('Canada'),\n",
       " ('USA'),\n",
       " ('France'),\n",
       " ('Ireland'),\n",
       " ('United Kingdom'),\n",
       " ('Australia'),\n",
       " ('Chile'),\n",
       " ('India'),\n",
       " ('Brazil'),\n",
       " ('Portugal'),\n",
       " ('Netherlands'),\n",
       " ('Spain'),\n",
       " ('Sweden'),\n",
       " ('Czech Republic'),\n",
       " ('Finland'),\n",
       " ('Denmark'),\n",
       " ('Italy'),\n",
       " ('Poland'),\n",
       " ('Austria'),\n",
       " ('Hungary'),\n",
       " ('Argentina')]"
      ]
     },
     "execution_count": 9,
     "metadata": {},
     "output_type": "execute_result"
    }
   ],
   "source": [
    "# List all of the countries found in the invoices table\n",
    "countries = session.query(Invoices.BillingCountry).distinct(Invoices.BillingCountry).all()\n",
    "countries\n"
   ]
  },
  {
   "cell_type": "code",
   "execution_count": 15,
   "metadata": {
    "nbgrader": {
     "grade": false,
     "grade_id": "cell-4feed124c0f54f43",
     "locked": false,
     "schema_version": 1,
     "solution": true
    }
   },
   "outputs": [
    {
     "data": {
      "text/plain": [
       "[('USA', Decimal('523.06')),\n",
       " ('Canada', Decimal('303.96')),\n",
       " ('France', Decimal('195.10')),\n",
       " ('Brazil', Decimal('190.10')),\n",
       " ('Germany', Decimal('156.48')),\n",
       " ('United Kingdom', Decimal('112.86')),\n",
       " ('Czech Republic', Decimal('90.24')),\n",
       " ('Portugal', Decimal('77.24')),\n",
       " ('India', Decimal('75.26')),\n",
       " ('Chile', Decimal('46.62')),\n",
       " ('Ireland', Decimal('45.62')),\n",
       " ('Hungary', Decimal('45.62')),\n",
       " ('Austria', Decimal('42.62')),\n",
       " ('Finland', Decimal('41.62')),\n",
       " ('Netherlands', Decimal('40.62')),\n",
       " ('Norway', Decimal('39.62')),\n",
       " ('Sweden', Decimal('38.62')),\n",
       " ('Poland', Decimal('37.62')),\n",
       " ('Italy', Decimal('37.62')),\n",
       " ('Denmark', Decimal('37.62')),\n",
       " ('Australia', Decimal('37.62')),\n",
       " ('Argentina', Decimal('37.62')),\n",
       " ('Spain', Decimal('37.62')),\n",
       " ('Belgium', Decimal('37.62'))]"
      ]
     },
     "execution_count": 15,
     "metadata": {},
     "output_type": "execute_result"
    }
   ],
   "source": [
    "# Design a query that lists the invoices totals for each billing country \n",
    "# and sort the output in descending order.\n",
    "bill_countries_total = session.query(Invoices.BillingCountry,func.sum(Invoices.Total)).\\\n",
    "group_by(Invoices.BillingCountry).\\\n",
    "order_by(func.sum(Invoices.Total).desc()).\\\n",
    "all()\n",
    "bill_countries_total"
   ]
  },
  {
   "cell_type": "code",
   "execution_count": 16,
   "metadata": {
    "nbgrader": {
     "grade": false,
     "grade_id": "cell-e9cdc46eb1a16b7b",
     "locked": false,
     "schema_version": 1,
     "solution": true
    }
   },
   "outputs": [],
   "source": [
    "# Save a reference to the invoice_items table as `Items`\n",
    "Items = Base.classes.invoice_items"
   ]
  },
  {
   "cell_type": "code",
   "execution_count": 18,
   "metadata": {
    "nbgrader": {
     "grade": false,
     "grade_id": "cell-0a9629333439cef4",
     "locked": false,
     "schema_version": 1,
     "solution": true
    }
   },
   "outputs": [
    {
     "data": {
      "text/plain": [
       "[('2113'),\n",
       " ('94043-1351'),\n",
       " ('98052-8300'),\n",
       " ('95014'),\n",
       " ('89503'),\n",
       " ('53703'),\n",
       " ('85719'),\n",
       " ('76110'),\n",
       " ('84102'),\n",
       " ('32801'),\n",
       " ('60611'),\n",
       " ('10012-2612'),\n",
       " ('94040-111')]"
      ]
     },
     "execution_count": 18,
     "metadata": {},
     "output_type": "execute_result"
    }
   ],
   "source": [
    "# List all of the Billing Postal Codes for the USA.\n",
    "Bill_postal = session.query(Invoices.BillingPostalCode).filter(Invoices.BillingCountry=='USA').distinct().all()\n",
    "Bill_postal"
   ]
  },
  {
   "cell_type": "code",
   "execution_count": 23,
   "metadata": {
    "nbgrader": {
     "grade": false,
     "grade_id": "cell-a2cbfd30ace44821",
     "locked": false,
     "schema_version": 1,
     "solution": true
    }
   },
   "outputs": [
    {
     "name": "stderr",
     "output_type": "stream",
     "text": [
      "C:\\Users\\mail2\\anaconda3\\lib\\site-packages\\sqlalchemy\\sql\\sqltypes.py:661: SAWarning: Dialect sqlite+pysqlite does *not* support Decimal objects natively, and SQLAlchemy must convert from floating point - rounding errors and other issues may occur. Please consider storing Decimal numbers as strings or integers on this platform for lossless storage.\n",
      "  util.warn(\n"
     ]
    },
    {
     "data": {
      "text/plain": [
       "[(Decimal('523.0600000000'))]"
      ]
     },
     "execution_count": 23,
     "metadata": {},
     "output_type": "execute_result"
    }
   ],
   "source": [
    "# Calculate the Item Totals (sum(UnitPrice * Quantity)) for the USA\n",
    "session.query(func.sum(Items.UnitPrice * Items.Quantity)).filter(Invoices.InvoiceId ==Items.InvoiceId).filter(Invoices.BillingCountry=='USA').all()"
   ]
  },
  {
   "cell_type": "code",
   "execution_count": 26,
   "metadata": {
    "nbgrader": {
     "grade": false,
     "grade_id": "cell-04614f479d1ab21b",
     "locked": false,
     "schema_version": 1,
     "solution": true
    }
   },
   "outputs": [
    {
     "data": {
      "text/plain": [
       "[('76110', Decimal('47.6200000000')),\n",
       " ('60611', Decimal('43.6200000000')),\n",
       " ('84102', Decimal('43.6200000000')),\n",
       " ('53703', Decimal('42.6200000000')),\n",
       " ('94040-111', Decimal('39.6200000000')),\n",
       " ('98052-8300', Decimal('39.6200000000')),\n",
       " ('32801', Decimal('39.6200000000')),\n",
       " ('95014', Decimal('38.6200000000')),\n",
       " ('94043-1351', Decimal('37.6200000000')),\n",
       " ('89503', Decimal('37.6200000000')),\n",
       " ('85719', Decimal('37.6200000000')),\n",
       " ('2113', Decimal('37.6200000000')),\n",
       " ('10012-2612', Decimal('37.6200000000'))]"
      ]
     },
     "execution_count": 26,
     "metadata": {},
     "output_type": "execute_result"
    }
   ],
   "source": [
    "# Calculate the Item Totals `sum(UnitPrice * Quantity)` for each Billing Postal Code in the USA\n",
    "# Sort the results in descending order by Total\n",
    "session.query(Invoices.BillingPostalCode,func.sum(Items.UnitPrice * Items.Quantity)).\\\n",
    "filter(Invoices.InvoiceId ==Items.InvoiceId).\\\n",
    "filter(Invoices.BillingCountry=='USA').\\\n",
    "group_by(Invoices.BillingPostalCode).\\\n",
    "order_by(func.sum(Items.UnitPrice * Items.Quantity).desc()).\\\n",
    "all()"
   ]
  },
  {
   "cell_type": "code",
   "execution_count": null,
   "metadata": {},
   "outputs": [],
   "source": []
  }
 ],
 "metadata": {
  "celltoolbar": "Create Assignment",
  "kernelspec": {
   "display_name": "Python 3",
   "language": "python",
   "name": "python3"
  },
  "language_info": {
   "codemirror_mode": {
    "name": "ipython",
    "version": 3
   },
   "file_extension": ".py",
   "mimetype": "text/x-python",
   "name": "python",
   "nbconvert_exporter": "python",
   "pygments_lexer": "ipython3",
   "version": "3.8.5"
  },
  "varInspector": {
   "cols": {
    "lenName": 16,
    "lenType": 16,
    "lenVar": 40
   },
   "kernels_config": {
    "python": {
     "delete_cmd_postfix": "",
     "delete_cmd_prefix": "del ",
     "library": "var_list.py",
     "varRefreshCmd": "print(var_dic_list())"
    },
    "r": {
     "delete_cmd_postfix": ") ",
     "delete_cmd_prefix": "rm(",
     "library": "var_list.r",
     "varRefreshCmd": "cat(var_dic_list()) "
    }
   },
   "types_to_exclude": [
    "module",
    "function",
    "builtin_function_or_method",
    "instance",
    "_Feature"
   ],
   "window_display": false
  }
 },
 "nbformat": 4,
 "nbformat_minor": 2
}
